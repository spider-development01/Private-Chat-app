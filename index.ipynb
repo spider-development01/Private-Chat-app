!pip install flask flask-socketio pyngrok
!pip install flask flask-socketio eventlet
!pip install pyngrok
!ngrok authtoken 2gx07k2dnZkMR8dqD4nxLvyOmLJ_6ZUVQ6exmRovj113uQJXz
!ngrok restart
import os
from flask import Flask, session, request
from flask_socketio import SocketIO, send, emit
from pyngrok import ngrok

# Initialize Flask app and SocketIO
app = Flask(__name__)
app.config['SECRET_KEY'] = 'secret!'
socketio = SocketIO(app)

# Store chat messages
chat_history = []

# HTML template for the chat
chat_html = '''
<!DOCTYPE html>
<html>
<head>
  <meta charset="UTF-8">
  <meta name="viewport" content="width=device-width, initial-scale=1.0">
  <link rel="stylesheet" href="https://cdnjs.cloudflare.com/ajax/libs/font-awesome/6.0.0-beta3/css/all.min.css">
  <link rel="preconnect" href="https://fonts.googleapis.com">
  <link rel="preconnect" href="https://fonts.gstatic.com" crossorigin>
  <link href="https://fonts.googleapis.com/css2?family=Chakra+Petch:wght@300;400;500;600;700&display=swap" rel="stylesheet">
  <link href="https://unpkg.com/@bentoproject/core@0.2.3/dist/styles.css" rel="stylesheet">
  <title>Spider-Chat</title>
  <script src="https://cdn.socket.io/4.0.1/socket.io.min.js"></script>
  <style>
    body {
      font-family: 'Chakra Petch', sans-serif;
      margin: 0;
      display: flex;
      flex-direction: column;
      height: 100vh;
      background-color: #fef7dadc;
      color: #ffffff;
    }

    .chat-container {
      flex: 1;
      display: flex;
      flex-direction: column;
      padding: 10px;
    }

    #header {
      color: white;
      text-align: center;
      padding: 10px 0;
      font-size: 24px;
      position:sticky;
      top: 46px;
      z-index: 10000;

    }

    #hamburger {
      position: absolute;
      top: 50%;
      left: 10px;
      transform: translateY(-50%);
      cursor: pointer;
      z-index: 10000;
      width: 50px;
      height: 50px;
      display: flex;
      align-items: center;
      justify-content: center;
      border-radius: 50%;
      background: black;
      transition: all 0.3s ease;
    }

    .line {
      position: absolute;
      height: 2px;
      background-color: white;
      transition: all 0.3s ease;
    }

    .line1 {
      width: 20px;
      top: 40%;
    }

    .line2 {
      width: 10px;
      top: 60%;
    }

    #hamburger.open .line1 {
      transform: rotate(45deg);
      width: 20px;
      top: 50%;
    }

    #hamburger.open .line2 {
      transform: rotate(-45deg);
      width: 20px;
      top: 50%;
    }

    #messages {
      flex: 1;
      overflow-y: auto;
      margin: 10px 0;
    }

    .input-container {
      display: flex;
      padding: 10px 0;
    }

    #myMessage {
      flex: 1;
      padding: 10px;
      border: 1px solid #333;
      border-radius: 40px;
      margin-right: 10px;
      background: #1e1e1e;
      color: #fff;
    }

    #sendbutton {
      background: linear-gradient(135deg, #d7d1b7, #000);
      color: white;
      border: none;
      padding: 10px;
      border-radius: 4px;
      cursor: pointer;
    }

    .navbar {
      background-color: #000000;
  border-left: 1px solid #333;
  position: fixed;
  bottom: -100%; /* initially hide it off-screen */
  width: 100%;
  height: 82%;
  transition: bottom ease-in-out 0.3s; /* transition based on bottom */
  z-index: 1000;
  border-radius: 50px;
  border-bottom-left-radius: 0;
border-bottom-right-radius: 0;
color: #fef7da;
      
    }

    .navbar.open {
      bottom: 0;
    }

    h2{
      color: #fef7da;
    }
    .navbar h2 {
      text-align: center;
      padding: 10px 0;
      margin: 10px;
      z-index: 1000;
      text-align: center;
padding: 20px;
margin-top: 20px;
border:3px solid #fef7da;
border-radius: 50px;
color: #fef7da;
font-size: 22px;
font-weight: 700;
    }

    #userList {
      list-style: none;
      padding: 0;
      margin: 0;
    }

    #userList li {
      padding: 10px;
      cursor: pointer;
      border-bottom: 1px solid #333;
      color: #fff;
    }

    .message {
      display: flex;
      align-items: center;
      margin-bottom: 10px;
    }

    .message .profile-pic {
      width: 40px;
      height: 40px;
      margin-right: 10px;
    }

    .message .profile-pic img {
      width: 100%;
      border-radius: 50%;
    }

    @media (max-width: 768px) {
      .navbar {
        width: 100%;
      }

      #header {
        font-size: 28px;
      }

      #myMessage {
        font-size: 18px;
      }

      #sendbutton {
        font-size: 18px;
      }

      #userList li {
        font-size: 18px;
      }

      .message {
        font-size: 18px;
      }
    }
    .texter{
text-align: center;
padding: 20px;
margin-top: -10px;
border:3px solid #000000;
border-radius: 50px;
color: #000;
font-size: 22px;
font-weight: 700;
}
div{
color:#000;
}
  </style>
</head>
<body>
  <div class="chat-container">
    <div id="header">
      <div id="hamburger">
        <div class="line line1"></div>
        <div class="line line2"></div>
      </div>

    </div>
    <div class="texter">
      Spider-Chat
    </div>
    <div id="messages"></div>
    <div class="input-container">
      <input id="myMessage" placeholder="Type here" autocomplete="off">
      <button id="sendbutton"><i class="fas fa-paper-plane"></i></button>
    </div>
  </div>
  <div class="navbar" id="navbar">
    <h2>Users</h2>
    <ul id="userList"></ul>
  </div>
  <script type="text/javascript">
    document.addEventListener('DOMContentLoaded', (event) => {
      var socket = io.connect(window.location.href);
      var navbar = document.getElementById('navbar');
      var hamburger = document.getElementById('hamburger');

      function sendMessage(message, to) {
        if (message.trim() !== '') {
          socket.emit('message', {msg: message, to: to});
          document.getElementById('myMessage').value = '';
        }
      }

      socket.on('message', function(data) {
        var messageElement = document.createElement('div');
        messageElement.classList.add('message', data.align);
        messageElement.innerHTML = `
          <div class="profile-pic">
            <img src="https://t4.ftcdn.net/jpg/00/64/67/27/360_F_64672736_U5kpdGs9keUll8CRQ3p3YaEv2M6qkVY5.jpg" alt="Profile">
          </div>
          <div>
            <strong>${data.username}:</strong> ${data.msg}
          </div>`;
        if (data.to) {
          messageElement.innerHTML = `
            <div class="profile-pic">
              <img src="https://t4.ftcdn.net/jpg/00/64/67/27/360_F_64672736_U5kpdGs9keUll8CRQ3p3YaEv2M6qkVY5.jpg" alt="Profile">
            </div>
            <div>
              <strong>${data.username} to ${data.to}:</strong> ${data.msg}
            </div>`;
        }
        document.getElementById('messages').appendChild(messageElement);
        document.getElementById('messages').scrollTop = document.getElementById('messages').scrollHeight;
      });

      socket.on('chat_history', function(data) {
        var messages = data.messages;
        messages.forEach(messageData => {
          var messageElement = document.createElement('div');
          messageElement.classList.add('message', messageData.align);
          messageElement.innerHTML = `
            <div class="profile-pic">
              <img src="https://t4.ftcdn.net/jpg/00/64/67/27/360_F_64672736_U5kpdGs9keUll8CRQ3p3YaEv2M6qkVY5.jpg" alt="Profile">
            </div>
            <div>
              <strong>${messageData.username}:</strong> ${messageData.msg}
            </div>`;
          if (messageData.to) {
            messageElement.innerHTML = `
              <div class="profile-pic">
                <img src="https://t4.ftcdn.net/jpg/00/64/67/27/360_F_64672736_U5kpdGs9keUll8CRQ3p3YaEv2M6qkVY5.jpg" alt="Profile">
              </div>
              <div>
                <strong>${messageData.username} to ${messageData.to}:</strong> ${messageData.msg}
              </div>`;
          }
          document.getElementById('messages').appendChild(messageElement);
          document.getElementById('messages').scrollTop = document.getElementById('messages').scrollHeight;
        });
      });

      socket.on('user_list', function(data) {
        var userList = document.getElementById('userList');
        userList.innerHTML = '';
        data.users.forEach(user => {
          var userElement = document.createElement('li');
          userElement.textContent = user.username;
          userElement.onclick = function() {
            var msg = prompt('Enter your message to ' + user.username);
            if (msg) {
              sendMessage(msg, user.id);
            }
          };
          userList.appendChild(userElement);
        });
      });

      document.getElementById('sendbutton').onclick = function() {
        var msg = document.getElementById('myMessage').value;
        sendMessage(msg, null);
      };

      document.getElementById('myMessage').addEventListener('keydown', function(event) {
        if (event.key === 'Enter') {
          var msg = document.getElementById('myMessage').value;
          sendMessage(msg, null);
        }
      });

      socket.on('connect', function() {
        let username = prompt('Enter your username:');
        socket.emit('set_username', {username: username});
        socket.emit('get_chat_history');
      });

      var navbar = document.getElementById('navbar');
  var hamburger = document.getElementById('hamburger');

  hamburger.onclick = function() {
    if (navbar.classList.contains('open')) {
      navbar.classList.remove('open');
      hamburger.classList.remove('open');
    } else {
      navbar.classList.add('open');
      hamburger.classList.add('open');
    }
  };
});

  </script>
</body>
</html>


'''

users = {}
user_order = []

@app.route('/')
def chat():
    return chat_html

@socketio.on('connect')
def handle_connect():
    session['id'] = request.sid
    user_order.append(request.sid)
    print(f'{request.sid} connected')

@socketio.on('disconnect')
def handle_disconnect():
    user_id = session.get('id')
    if user_id in users:
        print(f'{users[user_id]["username"]} disconnected')
        del users[user_id]
        user_order.remove(user_id)
        emit_user_list()

@socketio.on('set_username')
def set_username(data):
    user_id = session.get('id')
    if user_id:
        username = data['username']
        users[user_id] = {
            'username': username
        }
        print(f'{username} has joined the chat')
        emit_user_list()

@socketio.on('message')
def handle_message(data):
    user_id = session.get('id')
    username = users.get(user_id, {}).get('username', 'Unknown')

    message_data = {
        'username': username,
        'msg': data['msg'],
        'align': 'right' if data['to'] else 'left',
        'to': None
    }

    if data['to']:
        recipient_id = data['to']
        recipient_username = users.get(recipient_id, {}).get('username', 'Unknown')
        message_data['to'] = recipient_username
        emit('message', message_data, room=recipient_id)
        emit('message', message_data, room=user_id)
    else:
        send(message_data, broadcast=True)

    # Store the message in chat history
    chat_history.append(message_data)

@socketio.on('get_chat_history')
def handle_get_chat_history():
    emit('chat_history', {'messages': chat_history})

def emit_user_list():
    user_list = [{'id': user_id, 'username': users[user_id]['username']} for user_id in users]
    emit('user_list', {'users': user_list}, broadcast=True)

# Start ngrok to expose the app
url = ngrok.connect(5000)
print(' * Tunnel URL:', url)

if __name__ == '__main__':
    socketio.run(app, port=5000, allow_unsafe_werkzeug=True)

